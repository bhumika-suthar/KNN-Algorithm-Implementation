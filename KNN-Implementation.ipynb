{
 "cells": [
  {
   "cell_type": "code",
   "execution_count": 232,
   "id": "08b630ce",
   "metadata": {},
   "outputs": [],
   "source": [
    "import numpy as np\n",
    "import pandas as pd\n",
    "from math import sqrt\n",
    "from sklearn.model_selection import train_test_split\n",
    "from sklearn.metrics import confusion_matrix\n"
   ]
  },
  {
   "cell_type": "code",
   "execution_count": 220,
   "id": "0617a1d6",
   "metadata": {},
   "outputs": [],
   "source": [
    "def Euclidean_distance(row1, row2):\n",
    "    distance = 0\n",
    "    for i in range(len(row1)-1):\n",
    "        distance += (row1[i] - row2[i])**2 #(x1-x2)**2+(y1-y2)**2\n",
    "    return sqrt(distance)\n"
   ]
  },
  {
   "cell_type": "code",
   "execution_count": 233,
   "id": "d231ec92",
   "metadata": {},
   "outputs": [],
   "source": [
    "def Get_Neighbors(train, test_row, num):\n",
    "    distance = list() # []\n",
    "    data = []\n",
    "    for i in train:\n",
    "        dist = Euclidean_distance(test_row, i)\n",
    "        distance.append(dist)\n",
    "        data.append(i)\n",
    "    distance = np.array(distance)\n",
    "    data = np.array(data)\n",
    "    # we are finding index of min distance\n",
    "    index_dist = distance.argsort()\n",
    "    #we arange our data acco. to index\n",
    "    data = data[index_dist]\n",
    "    #we are slicing num number of datas \n",
    "    neighbors = data[:num]\n",
    "    \n",
    "    return neighbors\n"
   ]
  },
  {
   "cell_type": "code",
   "execution_count": 222,
   "id": "2f37cfc1",
   "metadata": {},
   "outputs": [],
   "source": [
    "def predict_classification(train, test_row, num):\n",
    "    Neighbors = Get_Neighbors(train, test_row, num)\n",
    "    Classes = []\n",
    "    for i in Neighbors:\n",
    "        Classes.append(i[-1])\n",
    "    prediction = max(Classes, key= Classes.count)\n",
    "    return prediction\n"
   ]
  },
  {
   "cell_type": "code",
   "execution_count": 223,
   "id": "45fe5ce6",
   "metadata": {},
   "outputs": [],
   "source": [
    "\n",
    "def Evaluate(y_true, y_pred):\n",
    "    n_correct = 0\n",
    "    for i in range(len(y_true)):\n",
    "        if y_true[i] == y_pred[i]:\n",
    "            n_correct += 1\n",
    "    acc = n_correct/len(y_true)\n",
    "    return acc\n",
    "\n"
   ]
  },
  {
   "cell_type": "code",
   "execution_count": 224,
   "id": "785e20b9",
   "metadata": {},
   "outputs": [],
   "source": [
    "def knn_predict(X_train, X_test, y_train, num_neighbors=5):\n",
    "    # Euclidean distance calculation\n",
    "    \n",
    "    predictions = []\n",
    "    for test_row in X_test:\n",
    "        distances = []\n",
    "        for train_row, train_label in zip(X_train, y_train):\n",
    "            dist = Euclidean_distance(test_row, train_row)\n",
    "            distances.append((train_row, dist, train_label))\n",
    "        distances.sort(key=lambda x: x[1])\n",
    "        neighbors = distances[:num_neighbors]\n",
    "        neighbor_labels = [neighbor[2] for neighbor in neighbors]\n",
    "        prediction = max(set(neighbor_labels), key=neighbor_labels.count)\n",
    "        predictions.append(prediction)\n",
    "    return predictions\n"
   ]
  },
  {
   "cell_type": "code",
   "execution_count": 225,
   "id": "a94e1558",
   "metadata": {},
   "outputs": [],
   "source": [
    "\n",
    "dataset = pd.read_csv('C:\\\\Users\\\\Bhumika\\\\Downloads\\\\archive (2)\\\\ROCK_OR_MINE.csv')\n"
   ]
  },
  {
   "cell_type": "code",
   "execution_count": 226,
   "id": "37359ad2",
   "metadata": {},
   "outputs": [],
   "source": [
    "X = dataset.iloc[:, :-1].values  # Features\n",
    "y = dataset.iloc[:, -1].values   # Target variable\n"
   ]
  },
  {
   "cell_type": "code",
   "execution_count": 230,
   "id": "561cf71d",
   "metadata": {},
   "outputs": [
    {
     "name": "stdout",
     "output_type": "stream",
     "text": [
      "Accuracy of the KNN model: 0.7380952380952381\n",
      "Predicted labels: ['R', 'R', 'R', 'R', 'M', 'R', 'M', 'M', 'M', 'R', 'M', 'R', 'M', 'M', 'M', 'M', 'R', 'M', 'R', 'R', 'M', 'M', 'M', 'M', 'R', 'M', 'R', 'M', 'M', 'M', 'M', 'R', 'R', 'M', 'R', 'R', 'M', 'R', 'M', 'M', 'R', 'M']\n",
      "True labels: ['M' 'R' 'R' 'M' 'M' 'R' 'M' 'M' 'R' 'M' 'M' 'R' 'M' 'M' 'M' 'M' 'M' 'M'\n",
      " 'R' 'R' 'M' 'M' 'M' 'M' 'R' 'R' 'R' 'R' 'M' 'M' 'M' 'R' 'R' 'M' 'M' 'M'\n",
      " 'M' 'M' 'R' 'M' 'R' 'M']\n",
      "Confusion Matrix:\n",
      "[[20  7]\n",
      " [ 4 11]]\n"
     ]
    }
   ],
   "source": [
    "X_train, X_test, y_train, y_test = train_test_split(X, y, test_size=0.2, random_state=42)\n",
    "num_neighbors = 5\n",
    "predicted_labels = knn_predict(X_train, X_test, y_train, num_neighbors)\n",
    "accuracy = Evaluate(y_test, predicted_labels)\n",
    "print(f\"Accuracy of the KNN model: {accuracy}\")\n",
    "print(f\"Predicted labels: {predicted_labels}\")\n",
    "print(f\"True labels: {y_test}\")\n",
    "conf_matrix = confusion_matrix(y_test, predicted_labels)\n",
    "print(\"Confusion Matrix:\")\n",
    "print(conf_matrix)"
   ]
  },
  {
   "cell_type": "code",
   "execution_count": 231,
   "id": "31ec1f5f",
   "metadata": {},
   "outputs": [
    {
     "name": "stdout",
     "output_type": "stream",
     "text": [
      "Accuracy of the KNN model: 0.7619047619047619\n",
      "Predicted labels: ['R', 'R', 'R', 'R', 'M', 'R', 'M', 'M', 'M', 'R', 'M', 'R', 'M', 'M', 'M', 'M', 'R', 'M', 'R', 'R', 'M']\n",
      "True labels: ['M' 'R' 'R' 'M' 'M' 'R' 'M' 'M' 'R' 'M' 'M' 'R' 'M' 'M' 'M' 'M' 'M' 'M'\n",
      " 'R' 'R' 'M']\n",
      "Confusion Matrix:\n",
      "[[10  4]\n",
      " [ 1  6]]\n"
     ]
    }
   ],
   "source": [
    "X_train2, X_test2, y_train2, y_test2 = train_test_split(X, y, test_size=0.1, random_state=42)\n",
    "num_neighbors2 = 5\n",
    "predicted_labels2 = knn_predict(X_train2, X_test2, y_train2, num_neighbors2)\n",
    "accuracy2 = Evaluate(y_test2, predicted_labels2)\n",
    "print(f\"Accuracy of the KNN model: {accuracy2}\")\n",
    "print(f\"Predicted labels: {predicted_labels2}\")\n",
    "print(f\"True labels: {y_test2}\")\n",
    "conf_matrix2 = confusion_matrix(y_test2, predicted_labels2)\n",
    "print(\"Confusion Matrix:\")\n",
    "print(conf_matrix2)"
   ]
  },
  {
   "cell_type": "code",
   "execution_count": 234,
   "id": "4fb9e10d",
   "metadata": {},
   "outputs": [
    {
     "name": "stdout",
     "output_type": "stream",
     "text": [
      "Accuracy: 0.7380952380952381\n"
     ]
    }
   ],
   "source": [
    "from sklearn.neighbors import KNeighborsClassifier\n",
    "from sklearn.metrics import accuracy_score\n",
    "knn = KNeighborsClassifier(n_neighbors=5)\n",
    "knn.fit(X_train, y_train)\n",
    "y_pred = knn.predict(X_test)\n",
    "accuracy = accuracy_score(y_test, y_pred)\n",
    "print(f\"Accuracy: {accuracy}\")"
   ]
  },
  {
   "cell_type": "code",
   "execution_count": null,
   "id": "e1abe4ca",
   "metadata": {},
   "outputs": [],
   "source": []
  }
 ],
 "metadata": {
  "kernelspec": {
   "display_name": "Python 3 (ipykernel)",
   "language": "python",
   "name": "python3"
  },
  "language_info": {
   "codemirror_mode": {
    "name": "ipython",
    "version": 3
   },
   "file_extension": ".py",
   "mimetype": "text/x-python",
   "name": "python",
   "nbconvert_exporter": "python",
   "pygments_lexer": "ipython3",
   "version": "3.11.4"
  }
 },
 "nbformat": 4,
 "nbformat_minor": 5
}
